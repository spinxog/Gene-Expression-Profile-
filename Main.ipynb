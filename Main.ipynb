{
 "cells": [
  {
   "cell_type": "code",
   "execution_count": 1,
   "metadata": {},
   "outputs": [
    {
     "name": "stderr",
     "output_type": "stream",
     "text": [
      "c:\\Users\\Pradip\\AppData\\Local\\Programs\\Python\\Python311\\Lib\\site-packages\\torchvision\\io\\image.py:13: UserWarning: Failed to load image Python extension: '[WinError 127] The specified procedure could not be found'If you don't plan on using image functionality from `torchvision.io`, you can ignore this warning. Otherwise, there might be something wrong with your environment. Did you have `libjpeg` or `libpng` installed before building `torchvision` from source?\n",
      "  warn(\n"
     ]
    },
    {
     "name": "stdout",
     "output_type": "stream",
     "text": [
      "Downloading https://www.cs.toronto.edu/~kriz/cifar-10-python.tar.gz to ./data\\cifar-10-python.tar.gz\n"
     ]
    },
    {
     "name": "stderr",
     "output_type": "stream",
     "text": [
      "100%|██████████| 170498071/170498071 [00:09<00:00, 18124296.91it/s]\n"
     ]
    },
    {
     "name": "stdout",
     "output_type": "stream",
     "text": [
      "Extracting ./data\\cifar-10-python.tar.gz to ./data\n",
      "Files already downloaded and verified\n"
     ]
    }
   ],
   "source": [
    "import numpy as np\n",
    "from torchvision import datasets, transforms\n",
    "\n",
    "# Loading transformers\n",
    "transform = transforms.Compose([\n",
    "    transforms.Resize((32, 32)),\n",
    "    transforms.ToTensor()\n",
    "])\n",
    "\n",
    "train_data = datasets.CIFAR10(root='./data', train=True, download=True, transform=transform)\n",
    "test_data = datasets.CIFAR10(root='./data', train=False, download=True, transform=transform)\n",
    "\n",
    "# Converting to numpy for nnlinear\n",
    "def to_numpy(dataset):\n",
    "    inputs = []\n",
    "    labels = []\n",
    "    for img, label in dataset:\n",
    "        img = img.view(-1).numpy()  \n",
    "        inputs.append(img)\n",
    "        labels.append(label)\n",
    "    return np.array(inputs), np.array(labels)\n",
    "\n",
    "X_train, y_train = to_numpy(train_data)\n",
    "X_test, y_test = to_numpy(test_data)\n",
    "\n",
    "# Normalize\n",
    "X_train = X_train / 255.0\n",
    "X_test = X_test / 255.0\n"
   ]
  },
  {
   "cell_type": "code",
   "execution_count": null,
   "metadata": {},
   "outputs": [],
   "source": [
    "from nnlinear import Model, Linear, ReLU, SoftmaxCrossEntropyLoss\n",
    "from nnlinear.optim import SGD\n",
    "\n",
    "model = Model([\n",
    "    Linear(3072, 128),\n",
    "    ReLU(),\n",
    "    Linear(128, 10)\n",
    "])\n",
    "\n",
    "loss_fn = SoftmaxCrossEntropyLoss()\n",
    "optimizer = SGD(model.parameters(), lr=0.01)\n",
    "\n",
    "def train(model, X, y, epochs=10, batch_size=64):\n",
    "    for epoch in range(epochs):\n",
    "        indices = np.random.permutation(len(X))\n",
    "        X, y = X[indices], y[indices]\n",
    "\n",
    "        for i in range(0, len(X), batch_size):\n",
    "            xb = X[i:i+batch_size]\n",
    "            yb = y[i:i+batch_size]\n",
    "\n",
    "            out = model(xb)\n",
    "            loss = loss_fn(out, yb)\n",
    "\n",
    "            model.zero_grad()\n",
    "            loss_fn.backward()\n",
    "            optimizer.step()\n",
    "\n",
    "        print(f\"Epoch {epoch+1}: Loss = {loss:.4f}\")\n",
    "\n",
    "train(model, X_train, y_train, epochs=15)\n"
   ]
  },
  {
   "cell_type": "code",
   "execution_count": null,
   "metadata": {},
   "outputs": [],
   "source": [
    "# Accuracy Rate\n",
    "def accuracy(model, X, y):\n",
    "    preds = model(X).argmax(axis=1)\n",
    "    return (preds == y).mean()\n",
    "\n",
    "print(\"Test Accuracy:\", accuracy(model, X_test, y_test) * 100, \"%\")\n"
   ]
  }
 ],
 "metadata": {
  "kernelspec": {
   "display_name": "Python 3",
   "language": "python",
   "name": "python3"
  },
  "language_info": {
   "codemirror_mode": {
    "name": "ipython",
    "version": 3
   },
   "file_extension": ".py",
   "mimetype": "text/x-python",
   "name": "python",
   "nbconvert_exporter": "python",
   "pygments_lexer": "ipython3",
   "version": "3.11.9"
  }
 },
 "nbformat": 4,
 "nbformat_minor": 2
}

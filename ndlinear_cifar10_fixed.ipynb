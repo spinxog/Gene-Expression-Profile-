{
 "cells": [
  {
   "cell_type": "code",
   "execution_count": null,
   "id": "imports",
   "metadata": {},
   "outputs": [],
   "source": [
    "import torch\n",
    "import torch.nn as nn\n",
    "import torch.optim as optim\n",
    "import torchvision\n",
    "import torchvision.transforms as transforms\n",
    "from ndlinear import NdLinear\n",
    "import torch.nn.functional as F\n"
   ]
  },
  {
   "cell_type": "code",
   "execution_count": null,
   "id": "data-setup",
   "metadata": {},
   "outputs": [],
   "source": [
    "# Normalize + convert to tensor\n",
    "transform = transforms.Compose([\n",
    "    transforms.ToTensor(),\n",
    "    transforms.Normalize((0.5, 0.5, 0.5), (0.5, 0.5, 0.5))  # Fixed to 3 channels\n",
    "])\n",
    "\n",
    "# Training data\n",
    "train_set = torchvision.datasets.CIFAR10(\n",
    "    root='./data', train=True, download=True, transform=transform\n",
    ")\n",
    "train_loader = torch.utils.data.DataLoader(train_set, batch_size=64, shuffle=True)\n",
    "\n",
    "# Test data\n",
    "test_set = torchvision.datasets.CIFAR10(\n",
    "    root='./data', train=False, download=True, transform=transform\n",
    ")\n",
    "test_loader = torch.utils.data.DataLoader(test_set, batch_size=64, shuffle=False)\n"
   ]
  },
  {
   "cell_type": "code",
   "execution_count": null,
   "id": "model-definition",
   "metadata": {},
   "outputs": [],
   "source": [
    "# Flatten the CIFAR-10 images: Input size (3, 32, 32) -> Flatten to 3072\n",
    "class NdLinearCIFAR10(nn.Module):\n",
    "    def __init__(self):\n",
    "        super(NdLinearCIFAR10, self).__init__()\n",
    "        \n",
    "        # Define the layers using NdLinear\n",
    "        self.layer1 = NdLinear(input_dims=(3072,), hidden_size=(512,))  # Flatten to 3072 (3*32*32)\n",
    "        self.layer2 = NdLinear(input_dims=(512,), hidden_size=(256,))\n",
    "        self.layer3 = NdLinear(input_dims=(256,), hidden_size=(10,))  # Output classes = 10\n",
    "\n",
    "    def forward(self, x):\n",
    "        # Flatten the input images from (B, 3, 32, 32) -> (B, 3072)\n",
    "        x = x.view(x.size(0), -1)  # Flatten input\n",
    "        x = self.layer1(x)  # First layer\n",
    "        x = F.relu(x)        # Apply ReLU activation\n",
    "        x = self.layer2(x)  # Second layer\n",
    "        x = F.relu(x)        # Apply ReLU activation\n",
    "        x = self.layer3(x)  # Final output layer\n",
    "        return x\n",
    "\n",
    "# Create model\n",
    "model = NdLinearCIFAR10()\n",
    "\n",
    "# Move model to GPU if available\n",
    "device = torch.device(\"cuda\" if torch.cuda.is_available() else \"cpu\")\n",
    "model.to(device)\n",
    "\n",
    "# Loss function and optimizer\n",
    "criterion = nn.CrossEntropyLoss()\n",
    "optimizer = optim.Adam(model.parameters(), lr=0.001)\n"
   ]
  },
  {
   "cell_type": "code",
   "execution_count": null,
   "id": "training-loop",
   "metadata": {},
   "outputs": [],
   "source": [
    "# Training loop\n",
    "for epoch in range(10):  # You can increase the epochs for more accuracy\n",
    "    model.train()\n",
    "    total, correct = 0, 0\n",
    "\n",
    "    for inputs, labels in train_loader:\n",
    "        inputs, labels = inputs.to(device), labels.to(device)\n",
    "\n",
    "        # Removed redundant flattening here\n",
    "\n",
    "        optimizer.zero_grad()\n",
    "        outputs = model(inputs)  # Forward pass through the model\n",
    "        loss = criterion(outputs, labels)  # Compute loss\n",
    "        loss.backward()  # Backpropagate gradients\n",
    "        optimizer.step()  # Update weights\n",
    "\n",
    "        preds = outputs.argmax(dim=1)  # Get predictions\n",
    "        correct += (preds == labels).sum().item()\n",
    "        total += labels.size(0)\n",
    "\n",
    "    acc = correct / total\n",
    "    print(f\"Epoch {epoch + 1}: Accuracy = {acc:.2%}\")\n",
    "\n",
    "torch.save(model.state_dict(), \"ndlinear_cifar_model.pth\")"
   ]
  }
 ],
 "metadata": {
  "kernelspec": {
   "display_name": "Python 3",
   "language": "python",
   "name": "python3"
  },
  "language_info": {
   "codemirror_mode": {
    "name": "ipython",
    "version": 3
   },
   "file_extension": ".py",
   "mimetype": "text/x-python",
   "name": "python",
   "nbconvert_exporter": "python",
   "pygments_lexer": "ipython3",
   "version": "3.8.8"
  }
 },
 "nbformat": 4,
 "nbformat_minor": 5
}
